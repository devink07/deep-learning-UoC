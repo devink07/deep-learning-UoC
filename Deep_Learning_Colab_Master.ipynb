{
  "nbformat": 4,
  "nbformat_minor": 0,
  "metadata": {
    "colab": {
      "name": "Deep Learning - Colab Master",
      "provenance": [],
      "collapsed_sections": [
        "ijacPs2uPT8c",
        "6c_vVmOjSf38",
        "EjGgy945tWQ6"
      ],
      "include_colab_link": true
    },
    "kernelspec": {
      "name": "python3",
      "display_name": "Python 3"
    },
    "language_info": {
      "name": "python"
    },
    "accelerator": "GPU"
  },
  "cells": [
    {
      "cell_type": "markdown",
      "metadata": {
        "id": "view-in-github",
        "colab_type": "text"
      },
      "source": [
        "<a href=\"https://colab.research.google.com/github/devink07/deep-learning-UoC/blob/main/Deep_Learning_Colab_Master.ipynb\" target=\"_parent\"><img src=\"https://colab.research.google.com/assets/colab-badge.svg\" alt=\"Open In Colab\"/></a>"
      ]
    },
    {
      "cell_type": "markdown",
      "metadata": {
        "id": "W9wJmkdQyCFc"
      },
      "source": [
        "# Section 1:  Setting up your environment\n",
        "In order to use Colab with the required NN libarries we need to install any that are not available by default on to your cloud instance "
      ]
    },
    {
      "cell_type": "code",
      "metadata": {
        "id": "nuIoLANBZsa0"
      },
      "source": [
        "# import the libraries we will be using for our workshop \n",
        "# standard data science libraries\n",
        "import numpy as np\n",
        "import matplotlib.pyplot as plt\n",
        "import pandas as pd\n",
        "import seaborn as sns\n",
        "\n",
        "#Using Sci-kit learn to do the preprocessing\n",
        "from sklearn.preprocessing import MinMaxScaler\n",
        "from sklearn.model_selection import train_test_split\n",
        "from sklearn.pipeline import Pipeline\n",
        "\n",
        "#Tensorflow\n",
        "import tensorflow as tf\n",
        "from keras.utils.vis_utils import plot_model\n",
        "\n",
        "#interactive display of data\n",
        "%load_ext google.colab.data_table"
      ],
      "execution_count": null,
      "outputs": []
    },
    {
      "cell_type": "markdown",
      "metadata": {
        "id": "FqYat04frvye"
      },
      "source": [
        "# Section 2: Motivating example\n",
        "Modelling the relationship between Farhenheit and Celsius"
      ]
    },
    {
      "cell_type": "markdown",
      "metadata": {
        "id": "f3DnZmYiRHxc"
      },
      "source": [
        "## 2.1 Define the real world function\n",
        "Using a basic neural network let us try and approximate a function which converts degrees Celsius to Fahrenheit\n",
        "\n",
        "In reality, we won't have access to this function. But just for the sake of the experiment we will be using this\n"
      ]
    },
    {
      "cell_type": "markdown",
      "metadata": {
        "id": "bLVogzHN1TWA"
      },
      "source": [
        "## 2.2 Extract the data"
      ]
    },
    {
      "cell_type": "code",
      "metadata": {
        "id": "91-KH0fy1sXH",
        "colab": {
          "base_uri": "https://localhost:8080/"
        },
        "outputId": "981155e0-e877-478e-aaab-b255a7843721"
      },
      "source": [
        "celsius_array = np.array([-40, -10,  0,  8, 15, 22,  38])\n",
        "fahrenheit_array = np.array([-40,  14, 32, 46, 59, 72, 100])\n",
        "fahrenheit_array"
      ],
      "execution_count": null,
      "outputs": [
        {
          "output_type": "execute_result",
          "data": {
            "text/plain": [
              "array([-40,  14,  32,  46,  59,  72, 100])"
            ]
          },
          "metadata": {
            "tags": []
          },
          "execution_count": 2
        }
      ]
    },
    {
      "cell_type": "markdown",
      "metadata": {
        "id": "g451KvElzZLj"
      },
      "source": [
        "## 2.3 Build model using tensorflow's keras wrapper\n",
        "The Keras wrapper helps users to define models easily "
      ]
    },
    {
      "cell_type": "code",
      "metadata": {
        "id": "lgSocejwlHg3"
      },
      "source": [
        "from tensorflow.keras import Sequential\n",
        "from tensorflow.keras.layers import Dense\n",
        "from tensorflow.keras.losses import MeanSquaredError as MSE\n",
        "from tensorflow.keras.optimizers import Adam as Adam"
      ],
      "execution_count": null,
      "outputs": []
    },
    {
      "cell_type": "code",
      "metadata": {
        "id": "pKIQK6ZcfZa8"
      },
      "source": [
        "# Sequential means the layers can be stacked, we only have one layer \n",
        "# Input dimension is the 'columns' of input data, again we have only one \n",
        "# Dense layers are used when association can exist among any feature to any other feature in data point. i.e. fully connected\n",
        "tf.random.set_seed(7) # ensure weights are set\n",
        "model = Sequential(Dense(1,input_shape=[1]))"
      ],
      "execution_count": null,
      "outputs": []
    },
    {
      "cell_type": "code",
      "metadata": {
        "id": "5hf_ljlmfZWF"
      },
      "source": [
        "# model gets compiled we have specifed the loss function and the optimizer\n",
        "model.compile(loss=MSE(),\n",
        "              optimizer=Adam(learning_rate=0.1)\n",
        "              )\n"
      ],
      "execution_count": null,
      "outputs": []
    },
    {
      "cell_type": "code",
      "metadata": {
        "id": "ZodM3XV_fZOS"
      },
      "source": [
        "# fit the model\n",
        "# celsius_array (x) and farhenheit_array (y) are put as arguments\n",
        "# epochs mean number of times it goes through the training set, in this case it will make 500 passes through the training set\n",
        "history = model.fit(celsius_array,fahrenheit_array,epochs=500,verbose=False)"
      ],
      "execution_count": null,
      "outputs": []
    },
    {
      "cell_type": "code",
      "metadata": {
        "id": "vK5mWnbYhOrT",
        "colab": {
          "base_uri": "https://localhost:8080/",
          "height": 296
        },
        "outputId": "0f314f2a-df49-4728-caf6-fcb6cead82cc"
      },
      "source": [
        "# Plot the improvevment of loss (difference in y and y_pred)\n",
        "plt.plot(history.history['loss'])\n",
        "plt.xlabel('Epoch Number')\n",
        "plt.ylabel('Loss Magnitude')"
      ],
      "execution_count": null,
      "outputs": [
        {
          "output_type": "execute_result",
          "data": {
            "text/plain": [
              "Text(0, 0.5, 'Loss Magnitude')"
            ]
          },
          "metadata": {
            "tags": []
          },
          "execution_count": 7
        },
        {
          "output_type": "display_data",
          "data": {
            "image/png": "[encoded data removed]",
            "text/plain": [
              "<Figure size 432x288 with 1 Axes>"
            ]
          },
          "metadata": {
            "tags": [],
            "needs_background": "light"
          }
        }
      ]
    },
    {
      "cell_type": "code",
      "metadata": {
        "id": "UI1uixYjhci3",
        "colab": {
          "base_uri": "https://localhost:8080/"
        },
        "outputId": "6e529a20-ee04-4207-9518-3bbaf1cd6d24"
      },
      "source": [
        "# examine the weights and bias. \n",
        "# as seen below, the two metrics are very close to the values in the function\n",
        "model.get_weights()"
      ],
      "execution_count": null,
      "outputs": [
        {
          "output_type": "execute_result",
          "data": {
            "text/plain": [
              "[array([[1.8206093]], dtype=float32), array([29.276396], dtype=float32)]"
            ]
          },
          "metadata": {
            "tags": []
          },
          "execution_count": 8
        }
      ]
    },
    {
      "cell_type": "code",
      "metadata": {
        "id": "un8b0HDrhaJU",
        "colab": {
          "base_uri": "https://localhost:8080/"
        },
        "outputId": "f747b515-e8d4-4341-a18a-9d73c50b2173"
      },
      "source": [
        "print(model.predict([100.0]))"
      ],
      "execution_count": null,
      "outputs": [
        {
          "output_type": "stream",
          "text": [
            "[[211.33733]]\n"
          ],
          "name": "stdout"
        }
      ]
    },
    {
      "cell_type": "code",
      "metadata": {
        "id": "BuoV5sByhu1D",
        "colab": {
          "base_uri": "https://localhost:8080/"
        },
        "outputId": "0481e38b-db4a-4f1a-b037-4c88513b41b3"
      },
      "source": [
        "# to get number of parameters it is n[l] into the n[l-1] add the bias terms of current layer\n",
        "model.summary()"
      ],
      "execution_count": null,
      "outputs": [
        {
          "output_type": "stream",
          "text": [
            "Model: \"sequential\"\n",
            "_________________________________________________________________\n",
            "Layer (type)                 Output Shape              Param #   \n",
            "=================================================================\n",
            "dense (Dense)                (None, 1)                 2         \n",
            "=================================================================\n",
            "Total params: 2\n",
            "Trainable params: 2\n",
            "Non-trainable params: 0\n",
            "_________________________________________________________________\n"
          ],
          "name": "stdout"
        }
      ]
    },
    {
      "cell_type": "code",
      "metadata": {
        "id": "kMRw7ovBhzSI",
        "colab": {
          "base_uri": "https://localhost:8080/",
          "height": 201
        },
        "outputId": "e4d4b854-de0b-4526-cf61-83ad927ce3a7"
      },
      "source": [
        "dot_img_file = '/tmp/model_1.png'\n",
        "tf.keras.utils.plot_model(model, to_file=dot_img_file, show_shapes=True,expand_nested=True)"
      ],
      "execution_count": null,
      "outputs": [
        {
          "output_type": "execute_result",
          "data": {
            "image/png": "[encoded data removed]",
            "text/plain": [
              "<IPython.core.display.Image object>"
            ]
          },
          "metadata": {
            "tags": []
          },
          "execution_count": 11
        }
      ]
    },
    {
      "cell_type": "markdown",
      "metadata": {
        "id": "q_XW2i5W9nXG"
      },
      "source": [
        "# Section 3: Forward and Backward Propagation\n",
        "\n",
        "\n",
        "We will work through the neurons' weights and biases to arrive at the value in the output neuron"
      ]
    },
    {
      "cell_type": "markdown",
      "metadata": {
        "id": "s297k62zlpII"
      },
      "source": [
        "## 3.1 Forward Propogation exercise"
      ]
    },
    {
      "cell_type": "markdown",
      "metadata": {
        "id": "kVGycigQ-V-Q"
      },
      "source": [
        "![Neural Network.PNG](data:image/png;base64,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)"
      ]
    },
    {
      "cell_type": "code",
      "metadata": {
        "id": "SeWMLCWo9md1"
      },
      "source": [
        "# in this instance we have a set of inputs and weights,\n",
        "# first step is to place the weights into matrices, node,input\n",
        "\n",
        "input_array = np.array([1.0,2.0,3.0]).reshape(-1,1)\n",
        "weight_matrix= np.array([[0.2,0.1,0.3],  # weights for node 1\n",
        "                         [0.3,0.4,0.1],  # weights for node 2\n",
        "                         [0.4,0.2,0.3],  # weights for node 3\n",
        "                         [0.7,0.6,0.4]]) # weights for node 4\n",
        "\n",
        "bias = np.array([0.3,0.5,0.4,0.75]).reshape(-1,1)\n"
      ],
      "execution_count": null,
      "outputs": []
    },
    {
      "cell_type": "code",
      "metadata": {
        "id": "iYX3ZEU1YUeh",
        "colab": {
          "base_uri": "https://localhost:8080/"
        },
        "outputId": "176b2b26-7751-46fb-b381-17162df96f4f"
      },
      "source": [
        "print(f'(Shape of weight matrix: {weight_matrix.shape} x Shape of input array: {input_array.shape}) + shape of bias array: {bias.shape}' )"
      ],
      "execution_count": null,
      "outputs": [
        {
          "output_type": "stream",
          "text": [
            "(Shape of weight matrix: (4, 3) x Shape of input array: (3, 1)) + shape of bias array: (4, 1)\n"
          ],
          "name": "stdout"
        }
      ]
    },
    {
      "cell_type": "markdown",
      "metadata": {
        "id": "fyLQj4s7ZAo4"
      },
      "source": [
        "Formula for the sigmoid function\n",
        "\\begin{align}\n",
        "\\sigma (x) =\\frac{1}{1+e^{-x}}\n",
        "\\end{align}\n"
      ]
    },
    {
      "cell_type": "code",
      "metadata": {
        "id": "ootP6l5F9i3q",
        "colab": {
          "base_uri": "https://localhost:8080/"
        },
        "outputId": "f217e245-e330-4bc4-d69e-57cbe097c718"
      },
      "source": [
        "# multiply weight matrix by input and then add the bias\n",
        "z =np.matmul(weight_matrix,input_array) + bias\n",
        "z"
      ],
      "execution_count": null,
      "outputs": [
        {
          "output_type": "execute_result",
          "data": {
            "text/plain": [
              "array([[1.6 ],\n",
              "       [1.9 ],\n",
              "       [2.1 ],\n",
              "       [3.85]])"
            ]
          },
          "metadata": {
            "tags": []
          },
          "execution_count": 14
        }
      ]
    },
    {
      "cell_type": "code",
      "metadata": {
        "id": "FlQW0E34a_Cs",
        "colab": {
          "base_uri": "https://localhost:8080/"
        },
        "outputId": "18e8b0c8-4a9f-4689-beda-e588aa549bee"
      },
      "source": [
        "print(f'(Shape of output matrix: {z.shape}' )"
      ],
      "execution_count": null,
      "outputs": [
        {
          "output_type": "stream",
          "text": [
            "(Shape of output matrix: (4, 1)\n"
          ],
          "name": "stdout"
        }
      ]
    },
    {
      "cell_type": "code",
      "metadata": {
        "id": "K3WnqJNUaGJU"
      },
      "source": [
        "#apply the sigmoid function to z\n",
        "def sigmoid(x):\n",
        "  \n",
        "  s = 1/(1+np.exp(-x))\n",
        "  \n",
        "  return s"
      ],
      "execution_count": null,
      "outputs": []
    },
    {
      "cell_type": "code",
      "metadata": {
        "id": "UHn18A8Fahj5",
        "colab": {
          "base_uri": "https://localhost:8080/"
        },
        "outputId": "8483fea8-a26f-4980-d766-08e71aa2be4f"
      },
      "source": [
        "a = sigmoid(z) # output\n",
        "a"
      ],
      "execution_count": null,
      "outputs": [
        {
          "output_type": "execute_result",
          "data": {
            "text/plain": [
              "array([[0.83201839],\n",
              "       [0.86989153],\n",
              "       [0.89090318],\n",
              "       [0.97916366]])"
            ]
          },
          "metadata": {
            "tags": []
          },
          "execution_count": 17
        }
      ]
    },
    {
      "cell_type": "markdown",
      "metadata": {
        "id": "q76r8h7R2j1M"
      },
      "source": [
        "##3.2 Backward Propagation Derivation"
      ]
    },
    {
      "cell_type": "markdown",
      "metadata": {
        "id": "fBxZxXs02rJQ"
      },
      "source": [
        "* The idea is to take the derivative of the cost function with respect to w and b to see how we can update weights and biases to minimze the cost function $J$ using $dW$ and $db$\n",
        "* In order to perform the back propagation process we will rely heavily on the chain rule\n",
        "* We will use a simplified version of the neural network used in the slides to illustrate the concept\n",
        "* We will use the binary cross entropy as our loss function\n",
        "* We will use the sigmoid function as our activation function\n"
      ]
    },
    {
      "cell_type": "markdown",
      "metadata": {
        "id": "-CktQ-Ye2rAO"
      },
      "source": [
        "Equations for forward propagation:\n",
        "\n",
        "\\begin{align}\n",
        "Z^{[1]} = W^{[1]}X+b^{[1]} \\\\\n",
        "A^{[1]} = g^{[1]}(Z^{[1]}) \\\\\n",
        "Z^{[2]} = W^{[2]}A^{[1]}+b^{[2]} \\\\\n",
        "{\\widehat{y_{i}}} = A^{[2]} = g^{[2]}(Z^{[2]})\n",
        "\\end{align}\n",
        "\n",
        "\n",
        "---\n",
        "Cost Function:\n",
        "\\begin{align}\n",
        "J(y_{i},{\\widehat{y_{i}}}) = -\\frac{\\sum_{i=1}^{m}(y_{i}log({\\widehat{y_{i}}})+(1-y_{i})log(1-{\\widehat{y_{i}}})}{m}\n",
        "\\end{align}\n",
        "\n"
      ]
    },
    {
      "cell_type": "markdown",
      "metadata": {
        "id": "Ho9H6-ml9PwO"
      },
      "source": [
        "To perform backpropagation we move from right to left\n",
        "\n",
        "The first set will take the derivative of $J$ with respect to the weights in the second layer\n",
        "\n",
        "\n",
        "\\begin{align}\n",
        "\\frac{dJ}{dW^{[2]}} =\\frac{dJ}{dA^{[2]}}\\frac{dA^{[2]}}{dZ^{[2]}}\\frac{dZ^{[2]}}{dW^{[2]}}\n",
        "\\end{align}\n",
        "\n",
        "---\n",
        " Breaking it down into each of its components \n",
        "\n",
        "1.The derivative of output of cost function wrt the output of the activation function\n",
        "\n",
        "\\begin{align}\n",
        "\\frac{dJ}{dA^{[2]}} = \\frac{-y}{A^{[2]}} + \\frac{1-y}{1-A^{[2]}}\n",
        "\\end{align}\n",
        "&nbsp;\n",
        "\n",
        "2.The derivative of the activation function wrt z (this is just the derivative of the sigmoid function)\n",
        "\\begin{align}\n",
        "\\frac{dA^{[2]}}{dz^{[2]}} = {A^{[2]}}({1-A^{[2]}})\n",
        "\\end{align}\n",
        "&nbsp;\n",
        "\n",
        "3.The derivative of z wrt to w\n",
        "\\begin{align}\n",
        "\\frac{dZ^{[2]}}{dW^{[2]}} = {A^{[1]}}\n",
        "\\end{align}\n",
        "\n",
        "---\n",
        "Putting it altogether\n",
        "\n",
        "\\begin{align}\n",
        "\\frac{dJ}{dW^{[2]}} =\\frac{dJ}{dA^{[2]}}\\frac{dA^{[2]}}{dZ^{[2]}}\\frac{dZ^{[2]}}{dW^{[2]}}\n",
        "\\end{align}\n",
        "&nbsp; \n",
        "\\begin{align}\n",
        "\\frac{dJ}{dw^{[2]}} = (\\frac{-y}{A^{[2]}} + \\frac{1-y}{1-A^{[2]}}) ({A^{[2]}}({1-A^{[2]}}))({A^{[1]}})\n",
        "\\end{align}\n",
        "\n",
        "--- \n",
        "Simplifying the above expression\n",
        "\\begin{align}\n",
        "\\frac{dJ}{dW^{[2]}} = (A^{[2]}-y)*{A^{[1]}}\n",
        "\\end{align}\n"
      ]
    },
    {
      "cell_type": "markdown",
      "metadata": {
        "id": "nQTGrBm4PPEy"
      },
      "source": [
        "Just like backpropagation for the weights, it is very similar for the bias term\n",
        "\n",
        "\\begin{align}\n",
        "\\frac{dJ}{db^{[2]}} =\\frac{dJ}{dA^{[2]}}\\frac{dA^{[2]}}{dZ^{[2]}}\\frac{dZ^{[2]}}{db^{[2]}}\n",
        "\\end{align}\n",
        "&nbsp;\n",
        "\n",
        "We have derived all the components from before,the last term is $\\frac{dZ^{[2]}}{db^{[2]}} = 1$ \n",
        "&nbsp;\n",
        "\n",
        "Putting it all together\n",
        "\\begin{align}\n",
        "\\frac{dJ}{db^{[2]}} =(A^{[2]}-y) * 1\n",
        "\\end{align}\n",
        "\n",
        "Addtionally two other quantities will be calculated and used:\n",
        "\\begin{align}\n",
        "{dZ^{[2]}}=\\frac{dJ}{dZ^{[2]}} =\\frac{dJ}{dA^{[2]}}\\frac{dA^{[2]}}{dZ^{[2]}} = (A^{[2]}-y)\n",
        "\\end{align}\n",
        "&nbsp;\n",
        "\n",
        "\\begin{align}\n",
        "{dA^{[2]}}=\\frac{dJ}{dA^{[2]}} = \\frac{-y}{A^{[2]}} + \\frac{1-y}{1-A^{[2]}}\n",
        "\\end{align}\n",
        "This was calculated above"
      ]
    },
    {
      "cell_type": "markdown",
      "metadata": {
        "id": "GWxggGAZdez9"
      },
      "source": [
        "Now that we have derived everything for the second layer, we now focus on the first layer, all the information we derived earlier will be used for weight and bias updates of the first layer\n",
        "\n",
        "\n",
        "\\begin{align}\n",
        "\\frac{dJ}{dW^{[1]}} =\\frac{dJ}{dA^{[2]}}\\frac{dA^{[2]}}{dZ^{[2]}}\\frac{dZ^{[2]}}{dA^{[1]}}\\frac{dA^{[1]}}{dZ^{[1]}}\\frac{dZ^{[1]}}{dW^{[1]}}\n",
        "\\end{align}\n",
        "\n",
        "---\n",
        "Splitting into its components\n",
        "\\begin{align}\n",
        "\\frac{dZ^{[2]}}{dA^{[1]}} = W^{[2]}\n",
        "\\end{align}\n",
        "&nbsp;\n",
        "\\begin{align}\n",
        "\\frac{dA^{[1]}}{dZ^{[1]}} = {g}'(Z^{[1]})\n",
        "\\end{align}\n",
        "&nbsp;\n",
        "\\begin{align}\n",
        "\\frac{dZ^{[1]}}{dW^{[1]}} = X = A^{[0]}\n",
        "\\end{align}\n",
        "\n",
        "\n",
        "---\n",
        "Putting it all together\n",
        "\\begin{align}\n",
        "\\frac{dJ}{dW^{[1]}} =\\frac{dJ}{dA^{[2]}}\\frac{dA^{[2]}}{dZ^{[2]}}\\frac{dZ^{[2]}}{dA^{[1]}}\\frac{dA^{[1]}}{dZ^{[1]}}\\frac{dz^{[1]}}{dW^{[1]}}\n",
        "\\end{align}\n",
        "\n",
        "&nbsp;\n",
        "\n",
        "\\begin{align}\n",
        "\\frac{dJ}{dW^{[1]}} = {dz^{[2]}} W^{[2]}{g}'(Z^{[1]})A^{[0]}\n",
        "\\end{align}\n",
        "\n",
        "Similarly for the bias\n",
        "\n",
        "\\begin{align}\n",
        "\\frac{dJ}{db^{[1]}} =\\frac{dJ}{dA^{[2]}}\\frac{dA^{[2]}}{dZ^{[2]}}\\frac{dZ^{[2]}}{dA^{[1]}}\\frac{dA^{[1]}}{dZ^{[1]}}\\frac{dZ^{[1]}}{db^{[1]}}\n",
        "\\end{align}\n",
        "\n",
        "&nbsp;\n",
        "\n",
        "\\begin{align}\n",
        "\\frac{dJ}{db^{[1]}} = dZ^{[1]} *1\n",
        "\\end{align}\n",
        "\n",
        "where we compute the values for $dZ^{[1]}$ and $dA^{[1]}$\n",
        "\n",
        "\\begin{align}\n",
        "\\frac{dJ}{dZ^{[1]}}=dZ^{[1]} =\\frac{dJ}{dA^{[2]}}\\frac{dA^{[2]}}{dZ^{[2]}}\\frac{dZ^{[2]}}{dA^{[1]}}\\frac{dA^{[1]}}{dZ^{[1]}}\n",
        "\\end{align}\n",
        "\n",
        "&nbsp;\n",
        "\n",
        "\\begin{align}\n",
        "\\frac{dJ}{dA^{[1]}}=dA^{[1]} =\\frac{dJ}{dA^{[2]}}\\frac{dA^{[2]}}{dZ^{[2]}}\\frac{dZ^{[2]}}{dA^{[1]}} = dZ^{[2]}W^{[2]}\n",
        "\\end{align}\n",
        "\n",
        "\n"
      ]
    },
    {
      "cell_type": "markdown",
      "metadata": {
        "id": "R63VsxPwRUMd"
      },
      "source": [
        "Now we have the four derivatives we need $ dW^{[2]},  db^{[2]},dW^{[1]},  db^{[1]}$\n",
        "\n",
        "\\begin{align}\n",
        "\\frac{dJ}{dW^{[2]}}=dW^{[2]} = dZ^{[2]}A^{[1]}\n",
        "\\end{align}\n",
        "\n",
        "\\begin{align}\n",
        "\\frac{dJ}{db^{[2]}}=db^{[2]} = dZ^{[2]}\n",
        "\\end{align}\n",
        "\n",
        "\\begin{align}\n",
        "\\frac{dJ}{dW^{[1]}}=dW^{[1]} = dZ^{[1]}A^{[0]}\n",
        "\\end{align}\n",
        "\n",
        "\\begin{align}\n",
        "\\frac{dJ}{db^{[1]}}=db^{[1]} = dZ^{[1]}\n",
        "\\end{align}"
      ]
    },
    {
      "cell_type": "markdown",
      "metadata": {
        "id": "TwzkTsuJZCgy"
      },
      "source": [
        "And the four intermediate derivatives we need $ dA^{[2]},  dZ^{[2]},dA^{[1]},  dZ^{[1]}$\n",
        "\n",
        "\\begin{align}\n",
        "\\frac{dJ}{dA^{[2]}}=dA^{[2]} = \\frac{-y}{A^{[2]}} + \\frac{1-y}{1-A^{[2]}}\n",
        "\\end{align}\n",
        "\n",
        "\\begin{align}\n",
        "\\frac{dJ}{dZ^{[2]}}=dZ^{[2]} = A^{[2]}-Y\n",
        "\\end{align}\n",
        "\n",
        "\\begin{align}\n",
        "\\frac{dJ}{dA^{[1]}}=dA^{[1]} = dZ^{[2]}W^{[2]}\n",
        "\\end{align}\n",
        "\n",
        "\\begin{align}\n",
        "\\frac{dJ}{dZ^{[1]}}=dZ^{[1]} = dA^{[1]} {g}'(Z^{[1]})\n",
        "\\end{align}"
      ]
    },
    {
      "cell_type": "markdown",
      "metadata": {
        "id": "ijacPs2uPT8c"
      },
      "source": [
        "# Section 4: Sample Loss Functions"
      ]
    },
    {
      "cell_type": "markdown",
      "metadata": {
        "id": "efD_VOd-P9lW"
      },
      "source": [
        "## 4.1 Mean Squared Error\n",
        "\n",
        "$ MSE = \\frac{1}{n}\\sum_{i=1}^{n}(y_{i} - \\widehat{y_{i}})^{2}$"
      ]
    },
    {
      "cell_type": "code",
      "metadata": {
        "id": "wOil6Y0GP85k"
      },
      "source": [
        "y_i = np.array([10,23,31,45,51])\n",
        "y_i_hat = np.array([10,30,40,60,80])\n"
      ],
      "execution_count": null,
      "outputs": []
    },
    {
      "cell_type": "code",
      "metadata": {
        "id": "_IUjcqWePaWG",
        "colab": {
          "base_uri": "https://localhost:8080/"
        },
        "outputId": "1edea834-09f6-49c3-c9d7-ecd5b98decc4"
      },
      "source": [
        "sum((y_i-y_i_hat)**2)/len(y_i)"
      ],
      "execution_count": null,
      "outputs": [
        {
          "output_type": "execute_result",
          "data": {
            "text/plain": [
              "239.2"
            ]
          },
          "metadata": {
            "tags": []
          },
          "execution_count": 19
        }
      ]
    },
    {
      "cell_type": "markdown",
      "metadata": {
        "id": "Nhy6wHtMSFxL"
      },
      "source": [
        "* When the values are not close to the true y (ground truth values) we can see that the MSE is high"
      ]
    },
    {
      "cell_type": "code",
      "metadata": {
        "id": "K9ktS73AR9l1",
        "colab": {
          "base_uri": "https://localhost:8080/"
        },
        "outputId": "b5d68975-024c-4cd8-b9c7-b70a9c65fae4"
      },
      "source": [
        "y_i_hat_2 = np.array([10,20.5,30,43.25,52.25])\n",
        "sum((y_i-y_i_hat_2)**2)/len(y_i)"
      ],
      "execution_count": null,
      "outputs": [
        {
          "output_type": "execute_result",
          "data": {
            "text/plain": [
              "2.375"
            ]
          },
          "metadata": {
            "tags": []
          },
          "execution_count": 20
        }
      ]
    },
    {
      "cell_type": "markdown",
      "metadata": {
        "id": "swbT5Ly6SMVa"
      },
      "source": [
        "* When the values are close close to the true y (ground truth values) we can see that the MSE is low"
      ]
    },
    {
      "cell_type": "markdown",
      "metadata": {
        "id": "6c_vVmOjSf38"
      },
      "source": [
        "##4.2 Cross Entropy\n",
        "$Cross \\ entropy = -\\frac{1}{n}\\sum_{i=1}^{n}(y_{i}log(\\widehat{y_{i}}))$\n",
        "\n"
      ]
    },
    {
      "cell_type": "code",
      "metadata": {
        "id": "Yk9ba1ZFUizj",
        "colab": {
          "base_uri": "https://localhost:8080/"
        },
        "outputId": "9fe69ea1-a1f3-466b-c029-f90e66683a5a"
      },
      "source": [
        "# cross entropy examples\n",
        "#correct prediction\n",
        "y = np.array([0,0,1,1])\n",
        "y_hat = np.array([0.1,0.1,0.7,0.9])\n",
        "cross_entropy =-np.sum(y*np.log(y_hat))/len(y)\n",
        "print(f'Cross Entropy is {cross_entropy}')"
      ],
      "execution_count": null,
      "outputs": [
        {
          "output_type": "stream",
          "text": [
            "Cross Entropy is 0.11550886489913968\n"
          ],
          "name": "stdout"
        }
      ]
    },
    {
      "cell_type": "markdown",
      "metadata": {
        "id": "xoDEa4E51sE7"
      },
      "source": [
        "* We can see when the values are close to each other, the entropy is low"
      ]
    },
    {
      "cell_type": "code",
      "metadata": {
        "id": "ESFL-qel0dfI",
        "colab": {
          "base_uri": "https://localhost:8080/"
        },
        "outputId": "1261bbfa-f3c2-4d10-d21d-68922f9ef6d8"
      },
      "source": [
        "#incorrect prediction\n",
        "y_hat_inc = np.array([0.9,0.9,0.2,0.1])\n",
        "cross_entropy =-np.sum(y*np.log(y_hat_inc))/len(y)\n",
        "print(f'Cross Entropy is {cross_entropy}')"
      ],
      "execution_count": null,
      "outputs": [
        {
          "output_type": "stream",
          "text": [
            "Cross Entropy is 0.9780057513570364\n"
          ],
          "name": "stdout"
        }
      ]
    },
    {
      "cell_type": "markdown",
      "metadata": {
        "id": "MMeFnKQI10rn"
      },
      "source": [
        "* We can see when the values are far apart from each other, the entropy is high"
      ]
    },
    {
      "cell_type": "markdown",
      "metadata": {
        "id": "EjGgy945tWQ6"
      },
      "source": [
        "# Section 5: Training on a Multi-variate data set"
      ]
    },
    {
      "cell_type": "markdown",
      "metadata": {
        "id": "HwO-a59Sw_9T"
      },
      "source": [
        "\n",
        "## 5.1 Loading the dataset\n",
        "\n",
        "\n"
      ]
    },
    {
      "cell_type": "code",
      "metadata": {
        "id": "Hk_g8BWsmbvS",
        "colab": {
          "base_uri": "https://localhost:8080/"
        },
        "outputId": "7485f010-e008-490a-c2f8-aa10b130ba24"
      },
      "source": [
        "#reading the file\n",
        "path = tf.keras.utils.get_file('Real_estate_valuation.csv', \n",
        "                               'https://drive.google.com/uc?id=1MJXqTZeEfsAQqm_ff9qTfZNUpFLfOjvg' )\n",
        "print (path)\n"
      ],
      "execution_count": null,
      "outputs": [
        {
          "output_type": "stream",
          "text": [
            "Downloading data from https://drive.google.com/uc?id=1MJXqTZeEfsAQqm_ff9qTfZNUpFLfOjvg\n",
            "16384/13903 [===================================] - 0s 0us/step\n",
            "/root/.keras/datasets/Real_estate_valuation.csv\n"
          ],
          "name": "stdout"
        }
      ]
    },
    {
      "cell_type": "code",
      "metadata": {
        "id": "cjL3PSVCYymo"
      },
      "source": [
        "data = pd.read_csv('/root/.keras/datasets/Real_estate_valuation.csv')"
      ],
      "execution_count": null,
      "outputs": []
    },
    {
      "cell_type": "code",
      "metadata": {
        "id": "YFOC7rARzC54",
        "colab": {
          "base_uri": "https://localhost:8080/",
          "height": 194
        },
        "outputId": "226be333-5ef0-47ff-e480-0b9bd90507be"
      },
      "source": [
        "#visualizing the first 5 rows of the data\n",
        "data.head()"
      ],
      "execution_count": null,
      "outputs": [
        {
          "output_type": "execute_result",
          "data": {
            "application/vnd.google.colaboratory.module+javascript": "\n      import \"https://ssl.gstatic.com/colaboratory/data_table/a6224c040fa35dcf/data_table.js\";\n\n      window.createDataTable({\n        data: [[{\n            'v': 0,\n            'f': \"0\",\n        },\n{\n            'v': 1,\n            'f': \"1\",\n        },\n{\n            'v': 2012.9170000000001,\n            'f': \"2012.9170000000001\",\n        },\n{\n            'v': 32.0,\n            'f': \"32.0\",\n        },\n{\n            'v': 84.87881999999999,\n            'f': \"84.87881999999999\",\n        },\n{\n            'v': 10,\n            'f': \"10\",\n        },\n{\n            'v': 37.9,\n            'f': \"37.9\",\n        }],\n [{\n            'v': 1,\n            'f': \"1\",\n        },\n{\n            'v': 2,\n            'f': \"2\",\n        },\n{\n            'v': 2012.9170000000001,\n            'f': \"2012.9170000000001\",\n        },\n{\n            'v': 19.5,\n            'f': \"19.5\",\n        },\n{\n            'v': 306.5947,\n            'f': \"306.5947\",\n        },\n{\n            'v': 9,\n            'f': \"9\",\n        },\n{\n            'v': 42.2,\n            'f': \"42.2\",\n        }],\n [{\n            'v': 2,\n            'f': \"2\",\n        },\n{\n            'v': 3,\n            'f': \"3\",\n        },\n{\n            'v': 2013.5829999999999,\n            'f': \"2013.5829999999999\",\n        },\n{\n            'v': 13.3,\n            'f': \"13.3\",\n        },\n{\n            'v': 561.9845,\n            'f': \"561.9845\",\n        },\n{\n            'v': 5,\n            'f': \"5\",\n        },\n{\n            'v': 47.3,\n            'f': \"47.3\",\n        }],\n [{\n            'v': 3,\n            'f': \"3\",\n        },\n{\n            'v': 4,\n            'f': \"4\",\n        },\n{\n            'v': 2013.5,\n            'f': \"2013.5\",\n        },\n{\n            'v': 13.3,\n            'f': \"13.3\",\n        },\n{\n            'v': 561.9845,\n            'f': \"561.9845\",\n        },\n{\n            'v': 5,\n            'f': \"5\",\n        },\n{\n            'v': 54.8,\n            'f': \"54.8\",\n        }],\n [{\n            'v': 4,\n            'f': \"4\",\n        },\n{\n            'v': 5,\n            'f': \"5\",\n        },\n{\n            'v': 2012.8329999999999,\n            'f': \"2012.8329999999999\",\n        },\n{\n            'v': 5.0,\n            'f': \"5.0\",\n        },\n{\n            'v': 390.5684,\n            'f': \"390.5684\",\n        },\n{\n            'v': 5,\n            'f': \"5\",\n        },\n{\n            'v': 43.1,\n            'f': \"43.1\",\n        }]],\n        columns: [[\"number\", \"index\"], [\"number\", \"No\"], [\"number\", \"X1 transaction date\"], [\"number\", \"X2 house age\"], [\"number\", \"X3 distance to the nearest MRT station\"], [\"number\", \"X4 number of convenience stores\"], [\"number\", \"Y house price of unit area\"]],\n        columnOptions: [{\"width\": \"1px\", \"className\": \"index_column\"}],\n        rowsPerPage: 25,\n        helpUrl: \"https://colab.research.google.com/notebooks/data_table.ipynb\",\n        suppressOutputScrolling: true,\n        minimumWidth: undefined,\n      });\n    ",
            "text/html": [
              "<div>\n",
              "<style scoped>\n",
              "    .dataframe tbody tr th:only-of-type {\n",
              "        vertical-align: middle;\n",
              "    }\n",
              "\n",
              "    .dataframe tbody tr th {\n",
              "        vertical-align: top;\n",
              "    }\n",
              "\n",
              "    .dataframe thead th {\n",
              "        text-align: right;\n",
              "    }\n",
              "</style>\n",
              "<table border=\"1\" class=\"dataframe\">\n",
              "  <thead>\n",
              "    <tr style=\"text-align: right;\">\n",
              "      <th></th>\n",
              "      <th>No</th>\n",
              "      <th>X1 transaction date</th>\n",
              "      <th>X2 house age</th>\n",
              "      <th>X3 distance to the nearest MRT station</th>\n",
              "      <th>X4 number of convenience stores</th>\n",
              "      <th>Y house price of unit area</th>\n",
              "    </tr>\n",
              "  </thead>\n",
              "  <tbody>\n",
              "    <tr>\n",
              "      <th>0</th>\n",
              "      <td>1</td>\n",
              "      <td>2012.917</td>\n",
              "      <td>32.0</td>\n",
              "      <td>84.87882</td>\n",
              "      <td>10</td>\n",
              "      <td>37.9</td>\n",
              "    </tr>\n",
              "    <tr>\n",
              "      <th>1</th>\n",
              "      <td>2</td>\n",
              "      <td>2012.917</td>\n",
              "      <td>19.5</td>\n",
              "      <td>306.59470</td>\n",
              "      <td>9</td>\n",
              "      <td>42.2</td>\n",
              "    </tr>\n",
              "    <tr>\n",
              "      <th>2</th>\n",
              "      <td>3</td>\n",
              "      <td>2013.583</td>\n",
              "      <td>13.3</td>\n",
              "      <td>561.98450</td>\n",
              "      <td>5</td>\n",
              "      <td>47.3</td>\n",
              "    </tr>\n",
              "    <tr>\n",
              "      <th>3</th>\n",
              "      <td>4</td>\n",
              "      <td>2013.500</td>\n",
              "      <td>13.3</td>\n",
              "      <td>561.98450</td>\n",
              "      <td>5</td>\n",
              "      <td>54.8</td>\n",
              "    </tr>\n",
              "    <tr>\n",
              "      <th>4</th>\n",
              "      <td>5</td>\n",
              "      <td>2012.833</td>\n",
              "      <td>5.0</td>\n",
              "      <td>390.56840</td>\n",
              "      <td>5</td>\n",
              "      <td>43.1</td>\n",
              "    </tr>\n",
              "  </tbody>\n",
              "</table>\n",
              "</div>"
            ],
            "text/plain": [
              "   No  ...  Y house price of unit area\n",
              "0   1  ...                        37.9\n",
              "1   2  ...                        42.2\n",
              "2   3  ...                        47.3\n",
              "3   4  ...                        54.8\n",
              "4   5  ...                        43.1\n",
              "\n",
              "[5 rows x 6 columns]"
            ]
          },
          "metadata": {
            "tags": []
          },
          "execution_count": 25
        }
      ]
    },
    {
      "cell_type": "code",
      "metadata": {
        "id": "THQ278jQmYa7"
      },
      "source": [
        "# best practice is to always work on a copy, we set deep equal true, any changes made on the copy will not affect the original data set\n",
        "real_estate = data.copy(deep=True)"
      ],
      "execution_count": null,
      "outputs": []
    },
    {
      "cell_type": "markdown",
      "metadata": {
        "id": "_0pzHEJtfdJp"
      },
      "source": [
        "## 5.2 Data Definitions\n",
        "The inputs are as follows\n",
        "* X1=the transaction date (for example, 2013.250=2013 March, 2013.500=2013 June, etc.)\n",
        "* X2=the house age (unit: year)\n",
        "* X3=the distance to the nearest MRT station (unit: meter)\n",
        "* X4=the number of convenience stores in the living circle on foot (integer)\n",
        "\n",
        "\n",
        "The output is as follows\n",
        "* Y= house price of unit area (10000 New Taiwan Dollar/Ping, where Ping is a local unit, 1 Ping = 3.3 meter squared)\n"
      ]
    },
    {
      "cell_type": "code",
      "metadata": {
        "id": "XZLNIM-gz2h6",
        "colab": {
          "base_uri": "https://localhost:8080/"
        },
        "outputId": "8b974a37-77af-4db4-dffa-8e4f94f27e5f"
      },
      "source": [
        "# shows the data types in the dataset\n",
        "real_estate.info()"
      ],
      "execution_count": null,
      "outputs": [
        {
          "output_type": "stream",
          "text": [
            "<class 'pandas.core.frame.DataFrame'>\n",
            "RangeIndex: 414 entries, 0 to 413\n",
            "Data columns (total 6 columns):\n",
            " #   Column                                  Non-Null Count  Dtype  \n",
            "---  ------                                  --------------  -----  \n",
            " 0   No                                      414 non-null    int64  \n",
            " 1   X1 transaction date                     414 non-null    float64\n",
            " 2   X2 house age                            414 non-null    float64\n",
            " 3   X3 distance to the nearest MRT station  414 non-null    float64\n",
            " 4   X4 number of convenience stores         414 non-null    int64  \n",
            " 5   Y house price of unit area              414 non-null    float64\n",
            "dtypes: float64(4), int64(2)\n",
            "memory usage: 19.5 KB\n"
          ],
          "name": "stdout"
        }
      ]
    },
    {
      "cell_type": "code",
      "metadata": {
        "id": "UEEOXJVBwKeQ",
        "colab": {
          "base_uri": "https://localhost:8080/"
        },
        "outputId": "ac194c6f-6cf2-463d-f5ac-bca3fbe5b5be"
      },
      "source": [
        "#checking if there are any null values\n",
        "real_estate.isna().sum()"
      ],
      "execution_count": null,
      "outputs": [
        {
          "output_type": "execute_result",
          "data": {
            "text/plain": [
              "No                                        0\n",
              "X1 transaction date                       0\n",
              "X2 house age                              0\n",
              "X3 distance to the nearest MRT station    0\n",
              "X4 number of convenience stores           0\n",
              "Y house price of unit area                0\n",
              "dtype: int64"
            ]
          },
          "metadata": {
            "tags": []
          },
          "execution_count": 28
        }
      ]
    },
    {
      "cell_type": "code",
      "metadata": {
        "id": "6ktIX_eHbOFy"
      },
      "source": [
        "#dropping the number column, pandas indexing takes care of it\n",
        "real_estate.drop(['No'],axis=1,inplace=True)"
      ],
      "execution_count": null,
      "outputs": []
    },
    {
      "cell_type": "code",
      "metadata": {
        "id": "GWI70aWcbaAh",
        "colab": {
          "base_uri": "https://localhost:8080/",
          "height": 194
        },
        "outputId": "67eecff8-8656-48ac-e853-848c26a8fec8"
      },
      "source": [
        "real_estate.head()"
      ],
      "execution_count": null,
      "outputs": [
        {
          "output_type": "execute_result",
          "data": {
            "application/vnd.google.colaboratory.module+javascript": "\n      import \"https://ssl.gstatic.com/colaboratory/data_table/a6224c040fa35dcf/data_table.js\";\n\n      window.createDataTable({\n        data: [[{\n            'v': 0,\n            'f': \"0\",\n        },\n{\n            'v': 2012.9170000000001,\n            'f': \"2012.9170000000001\",\n        },\n{\n            'v': 32.0,\n            'f': \"32.0\",\n        },\n{\n            'v': 84.87881999999999,\n            'f': \"84.87881999999999\",\n        },\n{\n            'v': 10,\n            'f': \"10\",\n        },\n{\n            'v': 37.9,\n            'f': \"37.9\",\n        }],\n [{\n            'v': 1,\n            'f': \"1\",\n        },\n{\n            'v': 2012.9170000000001,\n            'f': \"2012.9170000000001\",\n        },\n{\n            'v': 19.5,\n            'f': \"19.5\",\n        },\n{\n            'v': 306.5947,\n            'f': \"306.5947\",\n        },\n{\n            'v': 9,\n            'f': \"9\",\n        },\n{\n            'v': 42.2,\n            'f': \"42.2\",\n        }],\n [{\n            'v': 2,\n            'f': \"2\",\n        },\n{\n            'v': 2013.5829999999999,\n            'f': \"2013.5829999999999\",\n        },\n{\n            'v': 13.3,\n            'f': \"13.3\",\n        },\n{\n            'v': 561.9845,\n            'f': \"561.9845\",\n        },\n{\n            'v': 5,\n            'f': \"5\",\n        },\n{\n            'v': 47.3,\n            'f': \"47.3\",\n        }],\n [{\n            'v': 3,\n            'f': \"3\",\n        },\n{\n            'v': 2013.5,\n            'f': \"2013.5\",\n        },\n{\n            'v': 13.3,\n            'f': \"13.3\",\n        },\n{\n            'v': 561.9845,\n            'f': \"561.9845\",\n        },\n{\n            'v': 5,\n            'f': \"5\",\n        },\n{\n            'v': 54.8,\n            'f': \"54.8\",\n        }],\n [{\n            'v': 4,\n            'f': \"4\",\n        },\n{\n            'v': 2012.8329999999999,\n            'f': \"2012.8329999999999\",\n        },\n{\n            'v': 5.0,\n            'f': \"5.0\",\n        },\n{\n            'v': 390.5684,\n            'f': \"390.5684\",\n        },\n{\n            'v': 5,\n            'f': \"5\",\n        },\n{\n            'v': 43.1,\n            'f': \"43.1\",\n        }]],\n        columns: [[\"number\", \"index\"], [\"number\", \"X1 transaction date\"], [\"number\", \"X2 house age\"], [\"number\", \"X3 distance to the nearest MRT station\"], [\"number\", \"X4 number of convenience stores\"], [\"number\", \"Y house price of unit area\"]],\n        columnOptions: [{\"width\": \"1px\", \"className\": \"index_column\"}],\n        rowsPerPage: 25,\n        helpUrl: \"https://colab.research.google.com/notebooks/data_table.ipynb\",\n        suppressOutputScrolling: true,\n        minimumWidth: undefined,\n      });\n    ",
            "text/html": [
              "<div>\n",
              "<style scoped>\n",
              "    .dataframe tbody tr th:only-of-type {\n",
              "        vertical-align: middle;\n",
              "    }\n",
              "\n",
              "    .dataframe tbody tr th {\n",
              "        vertical-align: top;\n",
              "    }\n",
              "\n",
              "    .dataframe thead th {\n",
              "        text-align: right;\n",
              "    }\n",
              "</style>\n",
              "<table border=\"1\" class=\"dataframe\">\n",
              "  <thead>\n",
              "    <tr style=\"text-align: right;\">\n",
              "      <th></th>\n",
              "      <th>X1 transaction date</th>\n",
              "      <th>X2 house age</th>\n",
              "      <th>X3 distance to the nearest MRT station</th>\n",
              "      <th>X4 number of convenience stores</th>\n",
              "      <th>Y house price of unit area</th>\n",
              "    </tr>\n",
              "  </thead>\n",
              "  <tbody>\n",
              "    <tr>\n",
              "      <th>0</th>\n",
              "      <td>2012.917</td>\n",
              "      <td>32.0</td>\n",
              "      <td>84.87882</td>\n",
              "      <td>10</td>\n",
              "      <td>37.9</td>\n",
              "    </tr>\n",
              "    <tr>\n",
              "      <th>1</th>\n",
              "      <td>2012.917</td>\n",
              "      <td>19.5</td>\n",
              "      <td>306.59470</td>\n",
              "      <td>9</td>\n",
              "      <td>42.2</td>\n",
              "    </tr>\n",
              "    <tr>\n",
              "      <th>2</th>\n",
              "      <td>2013.583</td>\n",
              "      <td>13.3</td>\n",
              "      <td>561.98450</td>\n",
              "      <td>5</td>\n",
              "      <td>47.3</td>\n",
              "    </tr>\n",
              "    <tr>\n",
              "      <th>3</th>\n",
              "      <td>2013.500</td>\n",
              "      <td>13.3</td>\n",
              "      <td>561.98450</td>\n",
              "      <td>5</td>\n",
              "      <td>54.8</td>\n",
              "    </tr>\n",
              "    <tr>\n",
              "      <th>4</th>\n",
              "      <td>2012.833</td>\n",
              "      <td>5.0</td>\n",
              "      <td>390.56840</td>\n",
              "      <td>5</td>\n",
              "      <td>43.1</td>\n",
              "    </tr>\n",
              "  </tbody>\n",
              "</table>\n",
              "</div>"
            ],
            "text/plain": [
              "   X1 transaction date  ...  Y house price of unit area\n",
              "0             2012.917  ...                        37.9\n",
              "1             2012.917  ...                        42.2\n",
              "2             2013.583  ...                        47.3\n",
              "3             2013.500  ...                        54.8\n",
              "4             2012.833  ...                        43.1\n",
              "\n",
              "[5 rows x 5 columns]"
            ]
          },
          "metadata": {
            "tags": []
          },
          "execution_count": 30
        }
      ]
    },
    {
      "cell_type": "markdown",
      "metadata": {
        "id": "KtmPRpQggT1-"
      },
      "source": [
        "## 5.3 EDA \n",
        "\n",
        "We look at the descriptive statistics to see if we can get clues on how the data is strucutred"
      ]
    },
    {
      "cell_type": "code",
      "metadata": {
        "id": "e2g--x_NjNmy",
        "colab": {
          "base_uri": "https://localhost:8080/",
          "height": 257
        },
        "outputId": "bbc1fec0-53fa-4c3d-b260-58235997e6d1"
      },
      "source": [
        "#summary statistics for the data set\n",
        "real_estate.describe()"
      ],
      "execution_count": null,
      "outputs": [
        {
          "output_type": "execute_result",
          "data": {
            "application/vnd.google.colaboratory.module+javascript": "\n      import \"https://ssl.gstatic.com/colaboratory/data_table/a6224c040fa35dcf/data_table.js\";\n\n      window.createDataTable({\n        data: [[\"count\",\n{\n            'v': 414.0,\n            'f': \"414.0\",\n        },\n{\n            'v': 414.0,\n            'f': \"414.0\",\n        },\n{\n            'v': 414.0,\n            'f': \"414.0\",\n        },\n{\n            'v': 414.0,\n            'f': \"414.0\",\n        },\n{\n            'v': 414.0,\n            'f': \"414.0\",\n        }],\n [\"mean\",\n{\n            'v': 2013.1489710144933,\n            'f': \"2013.1489710144933\",\n        },\n{\n            'v': 17.71256038647343,\n            'f': \"17.71256038647343\",\n        },\n{\n            'v': 1083.8856889130436,\n            'f': \"1083.8856889130436\",\n        },\n{\n            'v': 4.094202898550725,\n            'f': \"4.094202898550725\",\n        },\n{\n            'v': 37.98019323671498,\n            'f': \"37.98019323671498\",\n        }],\n [\"std\",\n{\n            'v': 0.281967240262992,\n            'f': \"0.281967240262992\",\n        },\n{\n            'v': 11.392484533242536,\n            'f': \"11.392484533242536\",\n        },\n{\n            'v': 1262.1095954078514,\n            'f': \"1262.1095954078514\",\n        },\n{\n            'v': 2.945561805663617,\n            'f': \"2.945561805663617\",\n        },\n{\n            'v': 13.606487697735314,\n            'f': \"13.606487697735314\",\n        }],\n [\"min\",\n{\n            'v': 2012.6670000000001,\n            'f': \"2012.6670000000001\",\n        },\n{\n            'v': 0.0,\n            'f': \"0.0\",\n        },\n{\n            'v': 23.382839999999998,\n            'f': \"23.382839999999998\",\n        },\n{\n            'v': 0.0,\n            'f': \"0.0\",\n        },\n{\n            'v': 7.6,\n            'f': \"7.6\",\n        }],\n [\"25%\",\n{\n            'v': 2012.9170000000001,\n            'f': \"2012.9170000000001\",\n        },\n{\n            'v': 9.025,\n            'f': \"9.025\",\n        },\n{\n            'v': 289.3248,\n            'f': \"289.3248\",\n        },\n{\n            'v': 1.0,\n            'f': \"1.0\",\n        },\n{\n            'v': 27.7,\n            'f': \"27.7\",\n        }],\n [\"50%\",\n{\n            'v': 2013.1670000000001,\n            'f': \"2013.1670000000001\",\n        },\n{\n            'v': 16.1,\n            'f': \"16.1\",\n        },\n{\n            'v': 492.2313,\n            'f': \"492.2313\",\n        },\n{\n            'v': 4.0,\n            'f': \"4.0\",\n        },\n{\n            'v': 38.45,\n            'f': \"38.45\",\n        }],\n [\"75%\",\n{\n            'v': 2013.4170000000001,\n            'f': \"2013.4170000000001\",\n        },\n{\n            'v': 28.15,\n            'f': \"28.15\",\n        },\n{\n            'v': 1454.279,\n            'f': \"1454.279\",\n        },\n{\n            'v': 6.0,\n            'f': \"6.0\",\n        },\n{\n            'v': 46.6,\n            'f': \"46.6\",\n        }],\n [\"max\",\n{\n            'v': 2013.5829999999999,\n            'f': \"2013.5829999999999\",\n        },\n{\n            'v': 43.8,\n            'f': \"43.8\",\n        },\n{\n            'v': 6488.021,\n            'f': \"6488.021\",\n        },\n{\n            'v': 10.0,\n            'f': \"10.0\",\n        },\n{\n            'v': 117.5,\n            'f': \"117.5\",\n        }]],\n        columns: [[\"string\", \"index\"], [\"number\", \"X1 transaction date\"], [\"number\", \"X2 house age\"], [\"number\", \"X3 distance to the nearest MRT station\"], [\"number\", \"X4 number of convenience stores\"], [\"number\", \"Y house price of unit area\"]],\n        columnOptions: [{\"width\": \"1px\", \"className\": \"index_column\"}],\n        rowsPerPage: 25,\n        helpUrl: \"https://colab.research.google.com/notebooks/data_table.ipynb\",\n        suppressOutputScrolling: true,\n        minimumWidth: undefined,\n      });\n    ",
            "text/html": [
              "<div>\n",
              "<style scoped>\n",
              "    .dataframe tbody tr th:only-of-type {\n",
              "        vertical-align: middle;\n",
              "    }\n",
              "\n",
              "    .dataframe tbody tr th {\n",
              "        vertical-align: top;\n",
              "    }\n",
              "\n",
              "    .dataframe thead th {\n",
              "        text-align: right;\n",
              "    }\n",
              "</style>\n",
              "<table border=\"1\" class=\"dataframe\">\n",
              "  <thead>\n",
              "    <tr style=\"text-align: right;\">\n",
              "      <th></th>\n",
              "      <th>X1 transaction date</th>\n",
              "      <th>X2 house age</th>\n",
              "      <th>X3 distance to the nearest MRT station</th>\n",
              "      <th>X4 number of convenience stores</th>\n",
              "      <th>Y house price of unit area</th>\n",
              "    </tr>\n",
              "  </thead>\n",
              "  <tbody>\n",
              "    <tr>\n",
              "      <th>count</th>\n",
              "      <td>414.000000</td>\n",
              "      <td>414.000000</td>\n",
              "      <td>414.000000</td>\n",
              "      <td>414.000000</td>\n",
              "      <td>414.000000</td>\n",
              "    </tr>\n",
              "    <tr>\n",
              "      <th>mean</th>\n",
              "      <td>2013.148971</td>\n",
              "      <td>17.712560</td>\n",
              "      <td>1083.885689</td>\n",
              "      <td>4.094203</td>\n",
              "      <td>37.980193</td>\n",
              "    </tr>\n",
              "    <tr>\n",
              "      <th>std</th>\n",
              "      <td>0.281967</td>\n",
              "      <td>11.392485</td>\n",
              "      <td>1262.109595</td>\n",
              "      <td>2.945562</td>\n",
              "      <td>13.606488</td>\n",
              "    </tr>\n",
              "    <tr>\n",
              "      <th>min</th>\n",
              "      <td>2012.667000</td>\n",
              "      <td>0.000000</td>\n",
              "      <td>23.382840</td>\n",
              "      <td>0.000000</td>\n",
              "      <td>7.600000</td>\n",
              "    </tr>\n",
              "    <tr>\n",
              "      <th>25%</th>\n",
              "      <td>2012.917000</td>\n",
              "      <td>9.025000</td>\n",
              "      <td>289.324800</td>\n",
              "      <td>1.000000</td>\n",
              "      <td>27.700000</td>\n",
              "    </tr>\n",
              "    <tr>\n",
              "      <th>50%</th>\n",
              "      <td>2013.167000</td>\n",
              "      <td>16.100000</td>\n",
              "      <td>492.231300</td>\n",
              "      <td>4.000000</td>\n",
              "      <td>38.450000</td>\n",
              "    </tr>\n",
              "    <tr>\n",
              "      <th>75%</th>\n",
              "      <td>2013.417000</td>\n",
              "      <td>28.150000</td>\n",
              "      <td>1454.279000</td>\n",
              "      <td>6.000000</td>\n",
              "      <td>46.600000</td>\n",
              "    </tr>\n",
              "    <tr>\n",
              "      <th>max</th>\n",
              "      <td>2013.583000</td>\n",
              "      <td>43.800000</td>\n",
              "      <td>6488.021000</td>\n",
              "      <td>10.000000</td>\n",
              "      <td>117.500000</td>\n",
              "    </tr>\n",
              "  </tbody>\n",
              "</table>\n",
              "</div>"
            ],
            "text/plain": [
              "       X1 transaction date  ...  Y house price of unit area\n",
              "count           414.000000  ...                  414.000000\n",
              "mean           2013.148971  ...                   37.980193\n",
              "std               0.281967  ...                   13.606488\n",
              "min            2012.667000  ...                    7.600000\n",
              "25%            2012.917000  ...                   27.700000\n",
              "50%            2013.167000  ...                   38.450000\n",
              "75%            2013.417000  ...                   46.600000\n",
              "max            2013.583000  ...                  117.500000\n",
              "\n",
              "[8 rows x 5 columns]"
            ]
          },
          "metadata": {
            "tags": []
          },
          "execution_count": 31
        }
      ]
    },
    {
      "cell_type": "code",
      "metadata": {
        "id": "QLEmLrgnSxsB",
        "colab": {
          "base_uri": "https://localhost:8080/",
          "height": 421
        },
        "outputId": "e23e64ce-c215-430a-fb17-44e306b30fba"
      },
      "source": [
        "plt.figure(figsize=(9,6))\n",
        "plt.scatter(real_estate['X3 distance to the nearest MRT station'],data['Y house price of unit area'])\n",
        "plt.title('Distance to MRT vs. House Price')\n",
        "plt.xlabel('Distance to MRT (in meters)')\n",
        "plt.ylabel('House Price (NTD)')"
      ],
      "execution_count": null,
      "outputs": [
        {
          "output_type": "execute_result",
          "data": {
            "text/plain": [
              "Text(0, 0.5, 'House Price (NTD)')"
            ]
          },
          "metadata": {
            "tags": []
          },
          "execution_count": 32
        },
        {
          "output_type": "display_data",
          "data": {
            "image/png": "[encoded data removed]",
            "text/plain": [
              "<Figure size 648x432 with 1 Axes>"
            ]
          },
          "metadata": {
            "tags": [],
            "needs_background": "light"
          }
        }
      ]
    },
    {
      "cell_type": "code",
      "metadata": {
        "id": "8o6U47u6T8F3",
        "colab": {
          "base_uri": "https://localhost:8080/",
          "height": 421
        },
        "outputId": "7df471da-8f5b-450a-86a9-ef68b1f0b41d"
      },
      "source": [
        "plt.figure(figsize=(9,6))\n",
        "sns.boxplot(x=\"X4 number of convenience stores\", y=\"Y house price of unit area\",\n",
        "                 data=real_estate, palette=\"Set3\")\n",
        "plt.title('Number of Convenience Stores vs. House Price')\n",
        "plt.xlabel('Number of Convenience Stores')\n",
        "plt.ylabel('House Price (NTD)')"
      ],
      "execution_count": null,
      "outputs": [
        {
          "output_type": "execute_result",
          "data": {
            "text/plain": [
              "Text(0, 0.5, 'House Price (NTD)')"
            ]
          },
          "metadata": {
            "tags": []
          },
          "execution_count": 33
        },
        {
          "output_type": "display_data",
          "data": {
            "image/png": "[encoded data removed]",
            "text/plain": [
              "<Figure size 648x432 with 1 Axes>"
            ]
          },
          "metadata": {
            "tags": [],
            "needs_background": "light"
          }
        }
      ]
    },
    {
      "cell_type": "code",
      "metadata": {
        "id": "nd6nH3U2SlcQ",
        "colab": {
          "base_uri": "https://localhost:8080/",
          "height": 562
        },
        "outputId": "63bb16d6-e6bd-48c3-891b-7bafc201586e"
      },
      "source": [
        "corr = real_estate.corr()\n",
        "plt.figure(figsize=(9,6))\n",
        "sns.heatmap(corr,annot=True)\n",
        "plt.show()"
      ],
      "execution_count": null,
      "outputs": [
        {
          "output_type": "display_data",
          "data": {
            "image/png": "[encoded data removed]",
            "text/plain": [
              "<Figure size 648x432 with 2 Axes>"
            ]
          },
          "metadata": {
            "tags": [],
            "needs_background": "light"
          }
        }
      ]
    },
    {
      "cell_type": "code",
      "metadata": {
        "id": "MiW33kd0IazB",
        "colab": {
          "base_uri": "https://localhost:8080/"
        },
        "outputId": "e5d3edd6-8638-42af-937b-5ef801f8405e"
      },
      "source": [
        "real_estate.shape"
      ],
      "execution_count": null,
      "outputs": [
        {
          "output_type": "execute_result",
          "data": {
            "text/plain": [
              "(414, 5)"
            ]
          },
          "metadata": {
            "tags": []
          },
          "execution_count": 35
        }
      ]
    },
    {
      "cell_type": "code",
      "metadata": {
        "id": "TWsMl3vRgs8f"
      },
      "source": [
        "#splitting into training and testing data\n",
        "x = np.array(real_estate.iloc[:,1:4])\n",
        "y = np.array(real_estate.iloc[:,-1]).reshape(-1,1)\n",
        "X_train, X_test, y_train, y_test = train_test_split(x, y, test_size=0.2,shuffle=False) # do we want to shuffle the data"
      ],
      "execution_count": null,
      "outputs": []
    },
    {
      "cell_type": "code",
      "metadata": {
        "id": "b3AJ4OichGFN",
        "colab": {
          "base_uri": "https://localhost:8080/"
        },
        "outputId": "c3693f58-f060-4f6d-9f79-8aa0196e4363"
      },
      "source": [
        "print(f' Training Data: {len(X_train),len(y_train)}, Testing Data: {len(X_test),len(y_test)}')"
      ],
      "execution_count": null,
      "outputs": [
        {
          "output_type": "stream",
          "text": [
            " Training Data: (331, 331), Testing Data: (83, 83)\n"
          ],
          "name": "stdout"
        }
      ]
    },
    {
      "cell_type": "code",
      "metadata": {
        "id": "B8iB4DWELijS"
      },
      "source": [
        "# We transform the data using the training data, we do not use the whole data set;\n",
        "# This is to avoid any data leakage\n",
        "# If we use the whole dataset, the information will leak as we will be calculating\n",
        "# the minimum and maximum using all the data. \n",
        "\n",
        "x_scaler = MinMaxScaler()\n",
        "x_train_scaled = x_scaler.fit_transform(X_train)\n"
      ],
      "execution_count": null,
      "outputs": []
    },
    {
      "cell_type": "code",
      "metadata": {
        "id": "jbluQR9dLwYh"
      },
      "source": [
        "y_scaler = MinMaxScaler()\n",
        "y_train_scaled = y_scaler.fit_transform(y_train.reshape(-1, 1))"
      ],
      "execution_count": null,
      "outputs": []
    },
    {
      "cell_type": "code",
      "metadata": {
        "id": "OpsQRkn2f-O-",
        "colab": {
          "base_uri": "https://localhost:8080/",
          "height": 391
        },
        "outputId": "fe558161-fb0e-4f50-80f1-6e90f2623da6"
      },
      "source": [
        "pd.DataFrame(x_train_scaled,columns=real_estate.columns[1:4]).plot.kde(figsize=(9,6))"
      ],
      "execution_count": null,
      "outputs": [
        {
          "output_type": "execute_result",
          "data": {
            "text/plain": [
              "<matplotlib.axes._subplots.AxesSubplot at 0x7f1834bef8d0>"
            ]
          },
          "metadata": {
            "tags": []
          },
          "execution_count": 40
        },
        {
          "output_type": "display_data",
          "data": {
            "image/png": "[encoded data removed]",
            "text/plain": [
              "<Figure size 648x432 with 1 Axes>"
            ]
          },
          "metadata": {
            "tags": [],
            "needs_background": "light"
          }
        }
      ]
    },
    {
      "cell_type": "markdown",
      "metadata": {
        "id": "b9dn32dEfUNJ"
      },
      "source": [
        "* Transaction date is dropped, because it makes no sense to scale a time\n",
        "* There are many houses that close to an MRT, observe the peak in the density close to zero "
      ]
    },
    {
      "cell_type": "markdown",
      "metadata": {
        "id": "lIqUepcnub0h"
      },
      "source": [
        "## 5.4 Build the Model\n",
        "Let's start by building a multi-layer model by initating the parameters:\n",
        "1. Input size (i.e. how many columns of data? 4\n",
        "2. Output size how many columns of Output data? 1\n",
        "3. How many layers? 1 input + 2 hidden + 1 output layer\n",
        "4. What activation do I use? None specific, let's go with 2 relu's _ SGD for output layer   "
      ]
    },
    {
      "cell_type": "markdown",
      "metadata": {
        "id": "Q0hp5zEJozZv"
      },
      "source": [
        "### Neural Network Model N"
      ]
    },
    {
      "cell_type": "code",
      "metadata": {
        "id": "urSnNEsLttBX"
      },
      "source": [
        "# sequential means that the layers are 'stacked'\n",
        "no_neuron = 10\n",
        "tf.random.set_seed(7) # ensure weights are set\n",
        "model = Sequential([\n",
        "                    Dense(no_neuron,activation='relu',input_dim=3,),\n",
        "                    Dense(5,activation='relu'),# this is the hidden layer for our neural network, specify the number of neuron and the input dimensions\n",
        "                    Dense(1)# output layer\n",
        "])\n",
        "\n"
      ],
      "execution_count": null,
      "outputs": []
    },
    {
      "cell_type": "code",
      "metadata": {
        "id": "CIthpIMkz5e8"
      },
      "source": [
        "# Alternate method\n",
        "#model= Sequential()\n",
        "#model.add(Dense(no_neuron,activation='relu',input_dim=3,))\n",
        "#model.add(Dense(1))"
      ],
      "execution_count": null,
      "outputs": []
    },
    {
      "cell_type": "code",
      "metadata": {
        "id": "lJKVvmWhZikj",
        "colab": {
          "base_uri": "https://localhost:8080/"
        },
        "outputId": "778c1a54-dc7c-40e4-afe2-5579392405dd"
      },
      "source": [
        "model.summary()"
      ],
      "execution_count": null,
      "outputs": [
        {
          "output_type": "stream",
          "text": [
            "Model: \"sequential_3\"\n",
            "_________________________________________________________________\n",
            "Layer (type)                 Output Shape              Param #   \n",
            "=================================================================\n",
            "dense_5 (Dense)              (None, 10)                40        \n",
            "_________________________________________________________________\n",
            "dense_6 (Dense)              (None, 5)                 55        \n",
            "_________________________________________________________________\n",
            "dense_7 (Dense)              (None, 1)                 6         \n",
            "=================================================================\n",
            "Total params: 101\n",
            "Trainable params: 101\n",
            "Non-trainable params: 0\n",
            "_________________________________________________________________\n"
          ],
          "name": "stdout"
        }
      ]
    },
    {
      "cell_type": "code",
      "metadata": {
        "id": "l_zfKf6HPfju",
        "colab": {
          "base_uri": "https://localhost:8080/",
          "height": 422
        },
        "outputId": "d55c1d0e-2a19-4d4d-d901-f7d4cc608b26"
      },
      "source": [
        "tf.keras.utils.plot_model(\n",
        "    model, to_file='model.png', show_shapes=True, show_dtype=True,\n",
        "    show_layer_names=True, rankdir='TB', expand_nested=True, dpi=96\n",
        ")\n"
      ],
      "execution_count": null,
      "outputs": [
        {
          "output_type": "execute_result",
          "data": {
            "image/png": "[encoded data removed]",
            "text/plain": [
              "<IPython.core.display.Image object>"
            ]
          },
          "metadata": {
            "tags": []
          },
          "execution_count": 64
        }
      ]
    },
    {
      "cell_type": "code",
      "metadata": {
        "id": "jCGrTIsQjAQf"
      },
      "source": [
        "model.compile(optimizer='adam',loss='mse')"
      ],
      "execution_count": null,
      "outputs": []
    },
    {
      "cell_type": "code",
      "metadata": {
        "id": "fl7GIUd8jgxJ"
      },
      "source": [
        "history = model.fit(x_train_scaled,y_train_scaled,epochs=30,validation_split=0.2,\n",
        "                    batch_size=10,verbose=0) # verbose = 0,1,2"
      ],
      "execution_count": null,
      "outputs": []
    },
    {
      "cell_type": "code",
      "metadata": {
        "id": "ZT3cbQ4Xwl5G",
        "colab": {
          "base_uri": "https://localhost:8080/",
          "height": 281
        },
        "outputId": "e0334c39-2589-4eec-bd2d-75e79273e40a"
      },
      "source": [
        "\n",
        "loss = history.history['loss']\n",
        "val_loss = history.history['val_loss']\n",
        "epochs = range(1, len(loss) + 1)\n",
        "\n",
        "\n",
        "plt.figure()\n",
        "plt.plot(epochs, loss, 'bo', label='Training loss')\n",
        "plt.plot(epochs, val_loss, 'b', label='Validation loss')\n",
        "plt.title('Training and validation loss')\n",
        "plt.legend()\n",
        "plt.show()"
      ],
      "execution_count": null,
      "outputs": [
        {
          "output_type": "display_data",
          "data": {
            "image/png": "[encoded data removed]",
            "text/plain": [
              "<Figure size 432x288 with 1 Axes>"
            ]
          },
          "metadata": {
            "tags": [],
            "needs_background": "light"
          }
        }
      ]
    },
    {
      "cell_type": "code",
      "metadata": {
        "id": "UDAb_Rsqf7kY",
        "colab": {
          "base_uri": "https://localhost:8080/"
        },
        "outputId": "ffd0060b-32ef-4758-99fe-844e07162dcb"
      },
      "source": [
        "#getting the model layers\n",
        "for lay in model.layers:\n",
        "  print(lay.name)\n",
        "  print(lay.get_weights())\n",
        "  "
      ],
      "execution_count": null,
      "outputs": [
        {
          "output_type": "stream",
          "text": [
            "dense_5\n",
            "[array([[ 0.3544028 , -0.36228344,  0.40743002, -0.6159824 ,  0.31895813,\n",
            "         0.71725   ,  0.03839748,  0.53202987,  0.23469669, -0.54269224],\n",
            "       [-0.21878244,  0.13311216, -0.7586302 , -0.5675063 ,  0.39968064,\n",
            "         0.782676  , -0.07772081, -0.14514579,  0.28599772,  0.37284032],\n",
            "       [ 0.4982086 , -0.26928166,  0.46167237, -0.00828737,  0.20119952,\n",
            "        -0.11934268,  0.59565324,  0.06289406, -0.5841926 ,  0.1480339 ]],\n",
            "      dtype=float32), array([ 0.09247212, -0.00805354,  0.08909135,  0.        ,  0.08906974,\n",
            "        0.00241103, -0.03914652,  0.09223933,  0.08042641,  0.13994786],\n",
            "      dtype=float32)]\n",
            "dense_6\n",
            "[array([[-0.60835457,  0.18930042,  0.22784391, -0.01264616,  0.10696942],\n",
            "       [-0.31995496, -0.2156238 , -0.4858727 ,  0.1924329 , -0.60818934],\n",
            "       [ 0.29081935, -0.583343  , -0.31848827, -0.04923392,  0.46281618],\n",
            "       [ 0.24878973,  0.1168254 , -0.32243967, -0.23162931,  0.21907449],\n",
            "       [ 0.0293116 , -0.60538495, -0.3235818 ,  0.02738502,  0.3132922 ],\n",
            "       [-0.29586747, -0.27294192, -0.02541946,  0.52366203, -0.6188739 ],\n",
            "       [ 0.1803652 , -0.48537067,  0.33433148, -0.3519396 , -0.5726787 ],\n",
            "       [ 0.03817123, -0.45036572,  0.12893619, -0.24881752,  0.2355213 ],\n",
            "       [-0.41939363,  0.100564  ,  0.31152236, -0.35010645,  0.10075438],\n",
            "       [-0.31014132, -0.47117084, -0.07921676,  0.2688293 ,  0.506929  ]],\n",
            "      dtype=float32), array([ 0.        ,  0.        ,  0.10068043, -0.03410904,  0.09548531],\n",
            "      dtype=float32)]\n",
            "dense_7\n",
            "[array([[-0.4969263 ],\n",
            "       [-0.39684963],\n",
            "       [ 0.05273512],\n",
            "       [ 0.03798781],\n",
            "       [ 0.9635312 ]], dtype=float32), array([0.08702903], dtype=float32)]\n"
          ],
          "name": "stdout"
        }
      ]
    },
    {
      "cell_type": "markdown",
      "metadata": {
        "id": "SPriyXNA2Rf0"
      },
      "source": [
        "## 5.5 Prediction using the test data\n",
        "* In order to get predicted value from our model, we need to pass in our scaled testing data into the predict method of the model\n",
        "\n",
        "* The data must be transformed using the parameters from the training data, this is to ensure there is no data leakage"
      ]
    },
    {
      "cell_type": "code",
      "metadata": {
        "id": "xyGv86GrkLMt"
      },
      "source": [
        "#transforming the test data using the scaler we used for the training data\n",
        "x_test_transform = x_scaler.transform(X_test)"
      ],
      "execution_count": null,
      "outputs": []
    },
    {
      "cell_type": "code",
      "metadata": {
        "id": "RwOBQ5gcj62u"
      },
      "source": [
        "#predict using the transformed x test variable\n",
        "predict = model.predict(x_test_transform)"
      ],
      "execution_count": null,
      "outputs": []
    },
    {
      "cell_type": "code",
      "metadata": {
        "id": "PoahyPxphVDf",
        "colab": {
          "base_uri": "https://localhost:8080/"
        },
        "outputId": "22872c6e-2b11-4c2b-d1d6-85f01c06ee39"
      },
      "source": [
        "predict.shape"
      ],
      "execution_count": null,
      "outputs": [
        {
          "output_type": "execute_result",
          "data": {
            "text/plain": [
              "(83, 1)"
            ]
          },
          "metadata": {
            "tags": []
          },
          "execution_count": 71
        }
      ]
    },
    {
      "cell_type": "code",
      "metadata": {
        "id": "w6Kg1Sn30LiP",
        "colab": {
          "base_uri": "https://localhost:8080/"
        },
        "outputId": "9caef8e8-a663-4dfc-a006-1160d355fccc"
      },
      "source": [
        "print(f'Predicted Value : {predict.min()} , Actual Value : {y_test.min()}' )"
      ],
      "execution_count": null,
      "outputs": [
        {
          "output_type": "stream",
          "text": [
            "Predicted Value : 0.09969763457775116 , Actual Value : 11.2\n"
          ],
          "name": "stdout"
        }
      ]
    },
    {
      "cell_type": "code",
      "metadata": {
        "id": "LS0BY9SYrcAG"
      },
      "source": [
        "# we need to remove the transformation on the predicted data\n",
        "y_predict = y_scaler.inverse_transform(predict)"
      ],
      "execution_count": null,
      "outputs": []
    },
    {
      "cell_type": "code",
      "metadata": {
        "id": "lNe-9F5PJu75"
      },
      "source": [
        "predict_df = pd.DataFrame({'True_Y':y_test[:,0],\n",
        "                           'Predict_Y':y_predict[:,0]\n",
        "},index=real_estate.iloc[331:,1].index.values)"
      ],
      "execution_count": null,
      "outputs": []
    },
    {
      "cell_type": "code",
      "metadata": {
        "id": "jh2jDz_8K3pb",
        "colab": {
          "base_uri": "https://localhost:8080/",
          "height": 194
        },
        "outputId": "6d7d9511-c77c-4f90-e53e-fa415a6973e8"
      },
      "source": [
        "predict_df.head()"
      ],
      "execution_count": null,
      "outputs": [
        {
          "output_type": "execute_result",
          "data": {
            "application/vnd.google.colaboratory.module+javascript": "\n      import \"https://ssl.gstatic.com/colaboratory/data_table/a6224c040fa35dcf/data_table.js\";\n\n      window.createDataTable({\n        data: [[{\n            'v': 331,\n            'f': \"331\",\n        },\n{\n            'v': 15.6,\n            'f': \"15.6\",\n        },\n{\n            'v': 18.906946182250977,\n            'f': \"18.906946182250977\",\n        }],\n [{\n            'v': 332,\n            'f': \"332\",\n        },\n{\n            'v': 39.6,\n            'f': \"39.6\",\n        },\n{\n            'v': 36.13113021850586,\n            'f': \"36.13113021850586\",\n        }],\n [{\n            'v': 333,\n            'f': \"333\",\n        },\n{\n            'v': 38.4,\n            'f': \"38.4\",\n        },\n{\n            'v': 50.116458892822266,\n            'f': \"50.116458892822266\",\n        }],\n [{\n            'v': 334,\n            'f': \"334\",\n        },\n{\n            'v': 22.8,\n            'f': \"22.8\",\n        },\n{\n            'v': 31.788969039916992,\n            'f': \"31.788969039916992\",\n        }],\n [{\n            'v': 335,\n            'f': \"335\",\n        },\n{\n            'v': 36.5,\n            'f': \"36.5\",\n        },\n{\n            'v': 40.8088264465332,\n            'f': \"40.8088264465332\",\n        }]],\n        columns: [[\"number\", \"index\"], [\"number\", \"True_Y\"], [\"number\", \"Predict_Y\"]],\n        columnOptions: [{\"width\": \"1px\", \"className\": \"index_column\"}],\n        rowsPerPage: 25,\n        helpUrl: \"https://colab.research.google.com/notebooks/data_table.ipynb\",\n        suppressOutputScrolling: true,\n        minimumWidth: undefined,\n      });\n    ",
            "text/html": [
              "<div>\n",
              "<style scoped>\n",
              "    .dataframe tbody tr th:only-of-type {\n",
              "        vertical-align: middle;\n",
              "    }\n",
              "\n",
              "    .dataframe tbody tr th {\n",
              "        vertical-align: top;\n",
              "    }\n",
              "\n",
              "    .dataframe thead th {\n",
              "        text-align: right;\n",
              "    }\n",
              "</style>\n",
              "<table border=\"1\" class=\"dataframe\">\n",
              "  <thead>\n",
              "    <tr style=\"text-align: right;\">\n",
              "      <th></th>\n",
              "      <th>True_Y</th>\n",
              "      <th>Predict_Y</th>\n",
              "    </tr>\n",
              "  </thead>\n",
              "  <tbody>\n",
              "    <tr>\n",
              "      <th>331</th>\n",
              "      <td>15.6</td>\n",
              "      <td>18.906946</td>\n",
              "    </tr>\n",
              "    <tr>\n",
              "      <th>332</th>\n",
              "      <td>39.6</td>\n",
              "      <td>36.131130</td>\n",
              "    </tr>\n",
              "    <tr>\n",
              "      <th>333</th>\n",
              "      <td>38.4</td>\n",
              "      <td>50.116459</td>\n",
              "    </tr>\n",
              "    <tr>\n",
              "      <th>334</th>\n",
              "      <td>22.8</td>\n",
              "      <td>31.788969</td>\n",
              "    </tr>\n",
              "    <tr>\n",
              "      <th>335</th>\n",
              "      <td>36.5</td>\n",
              "      <td>40.808826</td>\n",
              "    </tr>\n",
              "  </tbody>\n",
              "</table>\n",
              "</div>"
            ],
            "text/plain": [
              "     True_Y  Predict_Y\n",
              "331    15.6  18.906946\n",
              "332    39.6  36.131130\n",
              "333    38.4  50.116459\n",
              "334    22.8  31.788969\n",
              "335    36.5  40.808826"
            ]
          },
          "metadata": {
            "tags": []
          },
          "execution_count": 75
        }
      ]
    },
    {
      "cell_type": "code",
      "metadata": {
        "id": "yxm6uygbg7ag",
        "colab": {
          "base_uri": "https://localhost:8080/"
        },
        "outputId": "7322ba55-96a5-48f5-8280-147d8acdb548"
      },
      "source": [
        "#calculating RMSE\n",
        "np.sqrt(sum(np.square(y_test - y_predict))/len(X_test))"
      ],
      "execution_count": null,
      "outputs": [
        {
          "output_type": "execute_result",
          "data": {
            "text/plain": [
              "array([7.09455813])"
            ]
          },
          "metadata": {
            "tags": []
          },
          "execution_count": 76
        }
      ]
    },
    {
      "cell_type": "code",
      "metadata": {
        "id": "JQhp_KS0L6Sf",
        "colab": {
          "base_uri": "https://localhost:8080/"
        },
        "outputId": "99a793dd-5eee-48d1-c363-016769c6be04"
      },
      "source": [
        "#Calculating MSE\n",
        "sum(np.square(y_test - y_predict))/len(X_test)"
      ],
      "execution_count": null,
      "outputs": [
        {
          "output_type": "execute_result",
          "data": {
            "text/plain": [
              "array([50.33275507])"
            ]
          },
          "metadata": {
            "tags": []
          },
          "execution_count": 77
        }
      ]
    },
    {
      "cell_type": "code",
      "metadata": {
        "id": "2GgWWZoOMGCa",
        "colab": {
          "base_uri": "https://localhost:8080/"
        },
        "outputId": "cb7d30e1-dcf4-4ea9-da71-c6f59b10df83"
      },
      "source": [
        "from sklearn.metrics import mean_squared_error\n",
        "print(f'MSE : {mean_squared_error(y_test, y_predict)} , RMSE : {mean_squared_error(y_test, y_predict,squared=False)}' )"
      ],
      "execution_count": null,
      "outputs": [
        {
          "output_type": "stream",
          "text": [
            "MSE : 50.332755072197926 , RMSE : 7.0945581308632555\n"
          ],
          "name": "stdout"
        }
      ]
    },
    {
      "cell_type": "code",
      "metadata": {
        "id": "76sQbN6Fk_ib",
        "colab": {
          "base_uri": "https://localhost:8080/",
          "height": 407
        },
        "outputId": "cad0669c-d4dd-46e1-c935-c897df8a696c"
      },
      "source": [
        "# Plotting the Predicted and Actual Values\n",
        "plt.figure(figsize=(9,6))\n",
        "plt.plot(predict_df.index.values,predict_df['Predict_Y'],label='Predict')\n",
        "plt.plot(predict_df.index.values,predict_df['True_Y'],label = 'Actual')\n",
        "plt.legend(loc=\"upper left\")\n",
        "plt.title('Actual vs Predicted Values')\n",
        "plt.text(409,69,f'MSE : {mean_squared_error(y_test, y_predict):.2f} \\nRMSE : {mean_squared_error(y_test, y_predict,squared=False):.2f}',\n",
        "         bbox=dict(facecolor='red', alpha=0.5))"
      ],
      "execution_count": null,
      "outputs": [
        {
          "output_type": "execute_result",
          "data": {
            "text/plain": [
              "Text(409, 69, 'MSE : 50.33 \\nRMSE : 7.09')"
            ]
          },
          "metadata": {
            "tags": []
          },
          "execution_count": 79
        },
        {
          "output_type": "display_data",
          "data": {
            "image/png": "[encoded data removed]",
            "text/plain": [
              "<Figure size 648x432 with 1 Axes>"
            ]
          },
          "metadata": {
            "tags": [],
            "needs_background": "light"
          }
        }
      ]
    },
    {
      "cell_type": "code",
      "metadata": {
        "colab": {
          "base_uri": "https://localhost:8080/"
        },
        "id": "88ji3luQpl-b",
        "outputId": "3e2d04ff-19eb-424e-d9f2-14d08f204c5e"
      },
      "source": [
        "(0.4*-0.3) + (0.4*0.8) + (0.3*0.8) + (-0.2*-0.7)"
      ],
      "execution_count": null,
      "outputs": [
        {
          "output_type": "execute_result",
          "data": {
            "text/plain": [
              "0.5800000000000001"
            ]
          },
          "metadata": {
            "tags": []
          },
          "execution_count": 80
        }
      ]
    },
    {
      "cell_type": "code",
      "metadata": {
        "id": "9gyp_VROpy5J"
      },
      "source": [
        ""
      ],
      "execution_count": null,
      "outputs": []
    }
  ]
}